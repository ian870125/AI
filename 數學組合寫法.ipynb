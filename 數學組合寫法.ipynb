{
 "cells": [
  {
   "cell_type": "code",
   "execution_count": 1,
   "metadata": {},
   "outputs": [],
   "source": [
    "def number_of_ways(n:int, m:int)->int:\n",
    "    y = 1\n",
    "    x = 1\n",
    "    z = 1\n",
    "    for i in range(1,n+m-1):\n",
    "        y *= i\n",
    "    for j in range(1,n):\n",
    "        x *= j\n",
    "    for k in range(1,m):\n",
    "        z *= k\n",
    "    return int(y/(x*z))"
   ]
  },
  {
   "cell_type": "code",
   "execution_count": null,
   "metadata": {},
   "outputs": [],
   "source": []
  }
 ],
 "metadata": {
  "kernelspec": {
   "display_name": "Python 3",
   "language": "python",
   "name": "python3"
  },
  "language_info": {
   "codemirror_mode": {
    "name": "ipython",
    "version": 3
   },
   "file_extension": ".py",
   "mimetype": "text/x-python",
   "name": "python",
   "nbconvert_exporter": "python",
   "pygments_lexer": "ipython3",
   "version": "3.7.3"
  }
 },
 "nbformat": 4,
 "nbformat_minor": 4
}
