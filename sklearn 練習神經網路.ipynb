{
 "cells": [
  {
   "cell_type": "code",
   "execution_count": null,
   "metadata": {},
   "outputs": [],
   "source": [
    "from sklearn.neural_network.multilayer_perceptron import MLPClassifier\n",
    "from sklearn import datasets\n",
    "iris=datasets.load_iris()\n",
    "data=iris.data\n",
    "labels=iris.target\n",
    "mlp=MLPClassifier(random_state=1,hidden_layer_sizes=(100,100),activation=\"logistic\",max_iter=100)\n",
    "mlp.fit(data, labels)\n",
    "pred=mlp.predict(data)\n",
    "from sklearn.metrics import accuracy_score\n",
    "print(\"Accuracy:%.2f\"%accuracy_score(labels,pred))\n",
    "from sklearn.model_selection import train_test_split\n",
    "from sklearn.preprocessing import StandardScaler\n",
    "data_train, data_test, labels_train, labels_test=train_test_split(data,labels,test_size=0.5,random_state=1)\n",
    "scaler=StandardScaler()\n",
    "scaler.fit(data)\n",
    "data_train_std=scaler.transform(data_train)\n",
    "data_test_std=scaler.transform(data_test)\n",
    "data_train=data_train_std\n",
    "data_test=data_test_std\n",
    "print(data_train)\n",
    "mlp.fit(data_train,labels_train)\n",
    "pred=mlp.predict(data_test)\n",
    "print(\"Accuracy%.2f\"%accuracy_score(labels_test,pred))\n",
    "import numpy as np\n",
    "from matplotlib.colors import ListedColormap\n",
    "import matplotlib.pyplot as plt\n",
    "makers=('s','*','^')\n",
    "colors=('blue','green','red')\n",
    "cmap=ListedColormap(colors)\n",
    "x_min, x_max=data[:,0].min()-1,data[:,0].max()+1\n",
    "y_min, y_max=data[:,1].min()-1,data[:,1].max()+1\n",
    "resolution=0.01\n",
    "x, y=np.meshgrid(np.arange(x_min,x_max,resolution),np.arange(y_min,y_max,resolution))\n",
    "print(np.array([x.ravel(),y.ravel()]).T)"
   ]
  }
 ],
 "metadata": {
  "kernelspec": {
   "display_name": "Python 3",
   "language": "python",
   "name": "python3"
  },
  "language_info": {
   "codemirror_mode": {
    "name": "ipython",
    "version": 3
   },
   "file_extension": ".py",
   "mimetype": "text/x-python",
   "name": "python",
   "nbconvert_exporter": "python",
   "pygments_lexer": "ipython3",
   "version": "3.7.3"
  }
 },
 "nbformat": 4,
 "nbformat_minor": 4
}
