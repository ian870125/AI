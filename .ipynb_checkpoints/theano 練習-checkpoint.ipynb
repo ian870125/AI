{
 "cells": [
  {
   "cell_type": "code",
   "execution_count": null,
   "metadata": {},
   "outputs": [],
   "source": [
    "import numpy as np\n",
    "import theano\n",
    "import matplotlib.pyplot as plt\n",
    "import theano.tensor as T\n",
    "from theano.tensor.nnet import conv\n",
    "import skimage.data\n",
    "import matplotlib.cm as cm\n",
    "\n",
    "depth = 4\n",
    "filter_shape = (3, 3)\n",
    "input = T.tensor4(name= 'input')\n",
    "w_shape = (depth, 3, filter_shape[0], filter_shape[1])\n",
    "dist = np.random.uniform(-0.2, 0.2, size= w_shape)\n",
    "W = theano.shared(np.asarray(dist, dtype= input.dtype), name= 'W')\n",
    "conv_output = conv.conv2d(input, W)\n",
    "output = T.nnet.sigmoid(conv_output)\n",
    "f =theano.function([input], output)\n",
    "astronaut = skimage.data.astronaut()\n",
    "img=np.asarray(astronaut, dtype= 'float32')/255\n",
    "filter_img = f(img.transpose(2, 0, 1).reshape(1, 3, 512, 512))\n",
    "print(filter_img)\n",
    "plt.axis('off')\n",
    "plt.imshow(img)\n",
    "plt.show()\n",
    "for img in range(depth):\n",
    "    fig = plt.figure()\n",
    "    plt.axis('off')\n",
    "    plt.imshow(filter_img[0, img, :, :, ], cmap= cm.gray)\n",
    "    plt.show()\n",
    "    filename = \"astro\" + str(img)\n",
    "    fig.savefig(filename, bbox_inches='tight')\n",
    "print(filter_img[0, 0, :, :])\n"
   ]
  }
 ],
 "metadata": {
  "kernelspec": {
   "display_name": "Python 3",
   "language": "python",
   "name": "python3"
  },
  "language_info": {
   "codemirror_mode": {
    "name": "ipython",
    "version": 3
   },
   "file_extension": ".py",
   "mimetype": "text/x-python",
   "name": "python",
   "nbconvert_exporter": "python",
   "pygments_lexer": "ipython3",
   "version": "3.7.3"
  }
 },
 "nbformat": 4,
 "nbformat_minor": 4
}
