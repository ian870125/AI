{
 "cells": [
  {
   "cell_type": "markdown",
   "metadata": {},
   "source": [
    "### 讀入基本套件 ###"
   ]
  },
  {
   "cell_type": "code",
   "execution_count": 1,
   "metadata": {},
   "outputs": [
    {
     "name": "stderr",
     "output_type": "stream",
     "text": [
      "C:\\Users\\user\\Anaconda3\\lib\\site-packages\\tensorflow\\python\\framework\\dtypes.py:516: FutureWarning: Passing (type, 1) or '1type' as a synonym of type is deprecated; in a future version of numpy, it will be understood as (type, (1,)) / '(1,)type'.\n",
      "  _np_qint8 = np.dtype([(\"qint8\", np.int8, 1)])\n",
      "C:\\Users\\user\\Anaconda3\\lib\\site-packages\\tensorflow\\python\\framework\\dtypes.py:517: FutureWarning: Passing (type, 1) or '1type' as a synonym of type is deprecated; in a future version of numpy, it will be understood as (type, (1,)) / '(1,)type'.\n",
      "  _np_quint8 = np.dtype([(\"quint8\", np.uint8, 1)])\n",
      "C:\\Users\\user\\Anaconda3\\lib\\site-packages\\tensorflow\\python\\framework\\dtypes.py:518: FutureWarning: Passing (type, 1) or '1type' as a synonym of type is deprecated; in a future version of numpy, it will be understood as (type, (1,)) / '(1,)type'.\n",
      "  _np_qint16 = np.dtype([(\"qint16\", np.int16, 1)])\n",
      "C:\\Users\\user\\Anaconda3\\lib\\site-packages\\tensorflow\\python\\framework\\dtypes.py:519: FutureWarning: Passing (type, 1) or '1type' as a synonym of type is deprecated; in a future version of numpy, it will be understood as (type, (1,)) / '(1,)type'.\n",
      "  _np_quint16 = np.dtype([(\"quint16\", np.uint16, 1)])\n",
      "C:\\Users\\user\\Anaconda3\\lib\\site-packages\\tensorflow\\python\\framework\\dtypes.py:520: FutureWarning: Passing (type, 1) or '1type' as a synonym of type is deprecated; in a future version of numpy, it will be understood as (type, (1,)) / '(1,)type'.\n",
      "  _np_qint32 = np.dtype([(\"qint32\", np.int32, 1)])\n",
      "C:\\Users\\user\\Anaconda3\\lib\\site-packages\\tensorflow\\python\\framework\\dtypes.py:525: FutureWarning: Passing (type, 1) or '1type' as a synonym of type is deprecated; in a future version of numpy, it will be understood as (type, (1,)) / '(1,)type'.\n",
      "  np_resource = np.dtype([(\"resource\", np.ubyte, 1)])\n",
      "C:\\Users\\user\\Anaconda3\\lib\\site-packages\\tensorboard\\compat\\tensorflow_stub\\dtypes.py:541: FutureWarning: Passing (type, 1) or '1type' as a synonym of type is deprecated; in a future version of numpy, it will be understood as (type, (1,)) / '(1,)type'.\n",
      "  _np_qint8 = np.dtype([(\"qint8\", np.int8, 1)])\n",
      "C:\\Users\\user\\Anaconda3\\lib\\site-packages\\tensorboard\\compat\\tensorflow_stub\\dtypes.py:542: FutureWarning: Passing (type, 1) or '1type' as a synonym of type is deprecated; in a future version of numpy, it will be understood as (type, (1,)) / '(1,)type'.\n",
      "  _np_quint8 = np.dtype([(\"quint8\", np.uint8, 1)])\n",
      "C:\\Users\\user\\Anaconda3\\lib\\site-packages\\tensorboard\\compat\\tensorflow_stub\\dtypes.py:543: FutureWarning: Passing (type, 1) or '1type' as a synonym of type is deprecated; in a future version of numpy, it will be understood as (type, (1,)) / '(1,)type'.\n",
      "  _np_qint16 = np.dtype([(\"qint16\", np.int16, 1)])\n",
      "C:\\Users\\user\\Anaconda3\\lib\\site-packages\\tensorboard\\compat\\tensorflow_stub\\dtypes.py:544: FutureWarning: Passing (type, 1) or '1type' as a synonym of type is deprecated; in a future version of numpy, it will be understood as (type, (1,)) / '(1,)type'.\n",
      "  _np_quint16 = np.dtype([(\"quint16\", np.uint16, 1)])\n",
      "C:\\Users\\user\\Anaconda3\\lib\\site-packages\\tensorboard\\compat\\tensorflow_stub\\dtypes.py:545: FutureWarning: Passing (type, 1) or '1type' as a synonym of type is deprecated; in a future version of numpy, it will be understood as (type, (1,)) / '(1,)type'.\n",
      "  _np_qint32 = np.dtype([(\"qint32\", np.int32, 1)])\n",
      "C:\\Users\\user\\Anaconda3\\lib\\site-packages\\tensorboard\\compat\\tensorflow_stub\\dtypes.py:550: FutureWarning: Passing (type, 1) or '1type' as a synonym of type is deprecated; in a future version of numpy, it will be understood as (type, (1,)) / '(1,)type'.\n",
      "  np_resource = np.dtype([(\"resource\", np.ubyte, 1)])\n"
     ]
    }
   ],
   "source": [
    "%matplotlib inline\n",
    "\n",
    "import pandas as pd\n",
    "import numpy as np\n",
    "import matplotlib.pyplot as plt\n",
    "import tensorflow as tf"
   ]
  },
  {
   "cell_type": "code",
   "execution_count": 2,
   "metadata": {},
   "outputs": [],
   "source": [
    "from tensorflow.keras.models import Sequential\n",
    "from tensorflow.keras.layers import Dense, Flatten\n",
    "from tensorflow.keras.layers import Conv2D, MaxPool2D, GlobalAveragePooling2D\n",
    "from tensorflow.keras.datasets import cifar10, fashion_mnist\n",
    "from tensorflow.keras.optimizers import SGD, Adam\n",
    "from tensorflow.keras.utils import to_categorical"
   ]
  },
  {
   "cell_type": "markdown",
   "metadata": {},
   "source": [
    "### 進行資料預處理 ###"
   ]
  },
  {
   "cell_type": "code",
   "execution_count": 3,
   "metadata": {},
   "outputs": [],
   "source": [
    "(x_train, y_train0), (x_test, y_test0) = cifar10.load_data()"
   ]
  },
  {
   "cell_type": "code",
   "execution_count": 4,
   "metadata": {},
   "outputs": [],
   "source": [
    "x_train = x_train/x_train.max()\n",
    "x_test = x_test/x_test.max()\n",
    "\n",
    "y_train = to_categorical(y_train0, 10)\n",
    "y_test = to_categorical(y_test0, 10)"
   ]
  },
  {
   "cell_type": "code",
   "execution_count": 5,
   "metadata": {},
   "outputs": [
    {
     "data": {
      "text/plain": [
       "(-0.5, 31.5, 31.5, -0.5)"
      ]
     },
     "execution_count": 5,
     "metadata": {},
     "output_type": "execute_result"
    },
    {
     "data": {
      "image/png": "[encoded data removed]",
      "text/plain": [
       "<Figure size 432x288 with 1 Axes>"
      ]
     },
     "metadata": {
      "needs_background": "light"
     },
     "output_type": "display_data"
    }
   ],
   "source": [
    "name_list = ['airplane', 'automobile', 'bird', 'cat', 'deer', 'dog', 'frog', 'horse', 'ship', 'truck']\n",
    "idx = np.random.randint(x_train.shape[0])\n",
    "x_sample = x_train[idx]\n",
    "y_sample = y_train0[idx].squeeze()\n",
    "\n",
    "plt.imshow(x_sample)\n",
    "plt.title(name_list[y_sample])\n",
    "plt.axis('off')"
   ]
  },
  {
   "cell_type": "markdown",
   "metadata": {},
   "source": [
    "### 建構基本模型，並且更改其內部的一些參數 ###"
   ]
  },
  {
   "cell_type": "code",
   "execution_count": 6,
   "metadata": {},
   "outputs": [
    {
     "name": "stdout",
     "output_type": "stream",
     "text": [
      "WARNING:tensorflow:From C:\\Users\\user\\Anaconda3\\lib\\site-packages\\tensorflow\\python\\ops\\init_ops.py:1251: calling VarianceScaling.__init__ (from tensorflow.python.ops.init_ops) with dtype is deprecated and will be removed in a future version.\n",
      "Instructions for updating:\n",
      "Call initializer instance with the dtype argument instead of passing it to the constructor\n"
     ]
    }
   ],
   "source": [
    "CNN_layer = [Conv2D(16, (3,3), input_shape = (32, 32, 3), padding = 'same', activation = 'relu', name='Conv_1'),\n",
    "            MaxPool2D(),\n",
    "            Conv2D(64, (3,3), padding = 'same', activation = 'relu', name='Conv_2'),\n",
    "            MaxPool2D(),\n",
    "            Conv2D(256, (3,3), padding = 'same', activation = 'relu', name = 'Conv_3'),\n",
    "            MaxPool2D(),\n",
    "            GlobalAveragePooling2D()]\n",
    "FC_layer = [Dense(128, activation = 'relu'),\n",
    "             Dense(10, activation = 'softmax')]"
   ]
  },
  {
   "cell_type": "code",
   "execution_count": 7,
   "metadata": {},
   "outputs": [],
   "source": [
    "model = Sequential(CNN_layer + FC_layer)"
   ]
  },
  {
   "cell_type": "code",
   "execution_count": 8,
   "metadata": {},
   "outputs": [
    {
     "name": "stdout",
     "output_type": "stream",
     "text": [
      "Model: \"sequential\"\n",
      "_________________________________________________________________\n",
      "Layer (type)                 Output Shape              Param #   \n",
      "=================================================================\n",
      "Conv_1 (Conv2D)              (None, 32, 32, 16)        448       \n",
      "_________________________________________________________________\n",
      "max_pooling2d (MaxPooling2D) (None, 16, 16, 16)        0         \n",
      "_________________________________________________________________\n",
      "Conv_2 (Conv2D)              (None, 16, 16, 64)        9280      \n",
      "_________________________________________________________________\n",
      "max_pooling2d_1 (MaxPooling2 (None, 8, 8, 64)          0         \n",
      "_________________________________________________________________\n",
      "Conv_3 (Conv2D)              (None, 8, 8, 256)         147712    \n",
      "_________________________________________________________________\n",
      "max_pooling2d_2 (MaxPooling2 (None, 4, 4, 256)         0         \n",
      "_________________________________________________________________\n",
      "global_average_pooling2d (Gl (None, 256)               0         \n",
      "_________________________________________________________________\n",
      "dense (Dense)                (None, 128)               32896     \n",
      "_________________________________________________________________\n",
      "dense_1 (Dense)              (None, 10)                1290      \n",
      "=================================================================\n",
      "Total params: 191,626\n",
      "Trainable params: 191,626\n",
      "Non-trainable params: 0\n",
      "_________________________________________________________________\n"
     ]
    }
   ],
   "source": [
    "model.summary()"
   ]
  },
  {
   "cell_type": "code",
   "execution_count": 9,
   "metadata": {},
   "outputs": [],
   "source": [
    "model.compile(loss='categorical_crossentropy', \n",
    "                optimizer=Adam(),\n",
    "                metrics=['categorical_accuracy'])\n"
   ]
  },
  {
   "cell_type": "code",
   "execution_count": 10,
   "metadata": {},
   "outputs": [
    {
     "name": "stdout",
     "output_type": "stream",
     "text": [
      "Train on 50000 samples, validate on 10000 samples\n",
      "Epoch 1/10\n",
      "50000/50000 [==============================] - 26s 523us/sample - loss: 1.7778 - categorical_accuracy: 0.3407 - val_loss: 1.6150 - val_categorical_accuracy: 0.4057\n",
      "Epoch 2/10\n",
      "50000/50000 [==============================] - 24s 472us/sample - loss: 1.4625 - categorical_accuracy: 0.4656 - val_loss: 1.3556 - val_categorical_accuracy: 0.5027\n",
      "Epoch 3/10\n",
      "50000/50000 [==============================] - 23s 470us/sample - loss: 1.3099 - categorical_accuracy: 0.5242 - val_loss: 1.2524 - val_categorical_accuracy: 0.5469\n",
      "Epoch 4/10\n",
      "50000/50000 [==============================] - 23s 469us/sample - loss: 1.2020 - categorical_accuracy: 0.5667 - val_loss: 1.1629 - val_categorical_accuracy: 0.5878\n",
      "Epoch 5/10\n",
      "50000/50000 [==============================] - 23s 470us/sample - loss: 1.1288 - categorical_accuracy: 0.5942 - val_loss: 1.0966 - val_categorical_accuracy: 0.6080\n",
      "Epoch 6/10\n",
      "50000/50000 [==============================] - 23s 469us/sample - loss: 1.0613 - categorical_accuracy: 0.6212 - val_loss: 1.0230 - val_categorical_accuracy: 0.6327\n",
      "Epoch 7/10\n",
      "50000/50000 [==============================] - 23s 469us/sample - loss: 1.0077 - categorical_accuracy: 0.6416 - val_loss: 1.0683 - val_categorical_accuracy: 0.6276\n",
      "Epoch 8/10\n",
      "50000/50000 [==============================] - 23s 469us/sample - loss: 0.9558 - categorical_accuracy: 0.6628 - val_loss: 1.0450 - val_categorical_accuracy: 0.6292\n",
      "Epoch 9/10\n",
      "50000/50000 [==============================] - 23s 469us/sample - loss: 0.9148 - categorical_accuracy: 0.6768 - val_loss: 0.9336 - val_categorical_accuracy: 0.6662\n",
      "Epoch 10/10\n",
      "50000/50000 [==============================] - 23s 469us/sample - loss: 0.8658 - categorical_accuracy: 0.6948 - val_loss: 0.8930 - val_categorical_accuracy: 0.6874\n"
     ]
    },
    {
     "data": {
      "text/plain": [
       "<tensorflow.python.keras.callbacks.History at 0x1fe808b0240>"
      ]
     },
     "execution_count": 10,
     "metadata": {},
     "output_type": "execute_result"
    }
   ],
   "source": [
    "model.fit(x_train, y_train, batch_size = 100, epochs = 10, validation_data = (x_test, y_test), shuffle = True)"
   ]
  },
  {
   "cell_type": "code",
   "execution_count": 11,
   "metadata": {},
   "outputs": [
    {
     "name": "stdout",
     "output_type": "stream",
     "text": [
      "50000/50000 [==============================] - 10s 192us/sample - loss: 0.8075 - categorical_accuracy: 0.7163\n",
      "10000/10000 [==============================] - 2s 188us/sample - loss: 0.8930 - categorical_accuracy: 0.6874\n"
     ]
    }
   ],
   "source": [
    "score_train = model.evaluate(x_train, y_train)\n",
    "score_test = model.evaluate(x_test, y_test)"
   ]
  },
  {
   "cell_type": "code",
   "execution_count": 12,
   "metadata": {},
   "outputs": [
    {
     "name": "stdout",
     "output_type": "stream",
     "text": [
      "train_score:0.7163199782371521\n",
      "test_score:0.6873999834060669\n"
     ]
    }
   ],
   "source": [
    "print(f'train_score:{score_train[1]}')\n",
    "print(f'test_score:{score_test[1]}')"
   ]
  },
  {
   "cell_type": "markdown",
   "metadata": {},
   "source": [
    "### 選擇不同的遷移目標 ###"
   ]
  },
  {
   "cell_type": "code",
   "execution_count": 13,
   "metadata": {},
   "outputs": [],
   "source": [
    "(x_train1, y_train1), (x_test1, y_test1) = fashion_mnist.load_data()"
   ]
  },
  {
   "cell_type": "code",
   "execution_count": 14,
   "metadata": {},
   "outputs": [],
   "source": [
    "x_train1 = x_train1/x_train1.max()\n",
    "x_test1 = x_test1/x_test1.max()\n",
    "x_train1=x_train1.reshape(60000,28,28,1)\n",
    "x_test1=x_test1.reshape(10000,28,28,1)\n",
    "\n",
    "y_train1 = to_categorical(y_train1, 10)\n",
    "y_test1 = to_categorical(y_test1, 10)"
   ]
  },
  {
   "cell_type": "code",
   "execution_count": 15,
   "metadata": {},
   "outputs": [],
   "source": [
    "cnn_layer = [Conv2D(32, (3,3),input_shape = (28, 28, 1), padding = 'same', activation = 'relu', name = 'conv_1' ),\n",
    "            MaxPool2D(),\n",
    "            Conv2D(64, (3,3), padding = 'same', activation = 'relu', name = 'conv_2'),\n",
    "            MaxPool2D(),\n",
    "            Conv2D(256, (5,5), padding = 'same', activation = 'relu', name = 'conv_3'),\n",
    "            GlobalAveragePooling2D()]"
   ]
  },
  {
   "cell_type": "code",
   "execution_count": 16,
   "metadata": {},
   "outputs": [],
   "source": [
    "model1 = Sequential(cnn_layer + FC_layer)"
   ]
  },
  {
   "cell_type": "code",
   "execution_count": 17,
   "metadata": {},
   "outputs": [
    {
     "name": "stdout",
     "output_type": "stream",
     "text": [
      "Model: \"sequential_1\"\n",
      "_________________________________________________________________\n",
      "Layer (type)                 Output Shape              Param #   \n",
      "=================================================================\n",
      "conv_1 (Conv2D)              (None, 28, 28, 32)        320       \n",
      "_________________________________________________________________\n",
      "max_pooling2d_3 (MaxPooling2 (None, 14, 14, 32)        0         \n",
      "_________________________________________________________________\n",
      "conv_2 (Conv2D)              (None, 14, 14, 64)        18496     \n",
      "_________________________________________________________________\n",
      "max_pooling2d_4 (MaxPooling2 (None, 7, 7, 64)          0         \n",
      "_________________________________________________________________\n",
      "conv_3 (Conv2D)              (None, 7, 7, 256)         409856    \n",
      "_________________________________________________________________\n",
      "global_average_pooling2d_1 ( (None, 256)               0         \n",
      "_________________________________________________________________\n",
      "dense (Dense)                (None, 128)               32896     \n",
      "_________________________________________________________________\n",
      "dense_1 (Dense)              (None, 10)                1290      \n",
      "=================================================================\n",
      "Total params: 462,858\n",
      "Trainable params: 462,858\n",
      "Non-trainable params: 0\n",
      "_________________________________________________________________\n"
     ]
    }
   ],
   "source": [
    "model1.summary()"
   ]
  },
  {
   "cell_type": "code",
   "execution_count": 18,
   "metadata": {},
   "outputs": [],
   "source": [
    "for layer in FC_layer:\n",
    "    layer.trainable = False"
   ]
  },
  {
   "cell_type": "code",
   "execution_count": 19,
   "metadata": {},
   "outputs": [],
   "source": [
    "model1.compile(loss = 'categorical_crossentropy',\n",
    "              optimizer = Adam(),\n",
    "              metrics = ['categorical_accuracy'])"
   ]
  },
  {
   "cell_type": "code",
   "execution_count": 20,
   "metadata": {},
   "outputs": [
    {
     "name": "stdout",
     "output_type": "stream",
     "text": [
      "Train on 60000 samples, validate on 10000 samples\n",
      "Epoch 1/10\n",
      "60000/60000 [==============================] - 34s 560us/sample - loss: 0.7043 - categorical_accuracy: 0.7467 - val_loss: 0.4992 - val_categorical_accuracy: 0.8221\n",
      "Epoch 2/10\n",
      "60000/60000 [==============================] - 33s 552us/sample - loss: 0.4300 - categorical_accuracy: 0.8468 - val_loss: 0.4360 - val_categorical_accuracy: 0.8393\n",
      "Epoch 3/10\n",
      "60000/60000 [==============================] - 33s 551us/sample - loss: 0.3636 - categorical_accuracy: 0.8706 - val_loss: 0.3571 - val_categorical_accuracy: 0.8752\n",
      "Epoch 4/10\n",
      "60000/60000 [==============================] - 33s 550us/sample - loss: 0.3272 - categorical_accuracy: 0.8821 - val_loss: 0.3285 - val_categorical_accuracy: 0.8827\n",
      "Epoch 5/10\n",
      "60000/60000 [==============================] - 33s 551us/sample - loss: 0.2968 - categorical_accuracy: 0.8928 - val_loss: 0.3097 - val_categorical_accuracy: 0.8875\n",
      "Epoch 6/10\n",
      "60000/60000 [==============================] - 33s 553us/sample - loss: 0.2736 - categorical_accuracy: 0.9012 - val_loss: 0.2838 - val_categorical_accuracy: 0.8982\n",
      "Epoch 7/10\n",
      "60000/60000 [==============================] - 33s 551us/sample - loss: 0.2625 - categorical_accuracy: 0.9044 - val_loss: 0.2928 - val_categorical_accuracy: 0.8956\n",
      "Epoch 8/10\n",
      "60000/60000 [==============================] - 33s 550us/sample - loss: 0.2480 - categorical_accuracy: 0.9101 - val_loss: 0.2758 - val_categorical_accuracy: 0.9013\n",
      "Epoch 9/10\n",
      "60000/60000 [==============================] - 33s 547us/sample - loss: 0.2378 - categorical_accuracy: 0.9143 - val_loss: 0.3070 - val_categorical_accuracy: 0.8878\n",
      "Epoch 10/10\n",
      "60000/60000 [==============================] - 33s 546us/sample - loss: 0.2250 - categorical_accuracy: 0.9181 - val_loss: 0.2604 - val_categorical_accuracy: 0.9068\n"
     ]
    },
    {
     "data": {
      "text/plain": [
       "<tensorflow.python.keras.callbacks.History at 0x1fe89d80a20>"
      ]
     },
     "execution_count": 20,
     "metadata": {},
     "output_type": "execute_result"
    }
   ],
   "source": [
    "model1.fit(x_train1, y_train1, epochs = 10, batch_size = 100, validation_data = (x_test1, y_test1), shuffle= True )"
   ]
  },
  {
   "cell_type": "code",
   "execution_count": 21,
   "metadata": {},
   "outputs": [
    {
     "name": "stdout",
     "output_type": "stream",
     "text": [
      "60000/60000 [==============================] - 14s 227us/sample - loss: 0.2084 - categorical_accuracy: 0.9242\n",
      "10000/10000 [==============================] - 2s 232us/sample - loss: 0.2604 - categorical_accuracy: 0.9068\n",
      "Train Accuracy: 92.41666793823242\n",
      "Test Accuracy: 90.67999720573425\n"
     ]
    }
   ],
   "source": [
    "score_train1 = model1.evaluate(x_train1, y_train1)\n",
    "score_test1 = model1.evaluate(x_test1, y_test1)\n",
    "\n",
    "print(f'Train Accuracy: {score_train1[1]*100}')\n",
    "print(f'Test Accuracy: {score_test1[1]*100}')"
   ]
  },
  {
   "cell_type": "code",
   "execution_count": null,
   "metadata": {},
   "outputs": [],
   "source": []
  }
 ],
 "metadata": {
  "kernelspec": {
   "display_name": "Python 3",
   "language": "python",
   "name": "python3"
  },
  "language_info": {
   "codemirror_mode": {
    "name": "ipython",
    "version": 3
   },
   "file_extension": ".py",
   "mimetype": "text/x-python",
   "name": "python",
   "nbconvert_exporter": "python",
   "pygments_lexer": "ipython3",
   "version": "3.7.3"
  }
 },
 "nbformat": 4,
 "nbformat_minor": 4
}
